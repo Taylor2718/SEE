{
 "cells": [
  {
   "cell_type": "markdown",
   "id": "5d016584",
   "metadata": {},
   "source": [
    "# SEE Filtering\n",
    "\n",
    "## Python script that filters SEE = 0 from ECLASS-public dataset. \n",
    "\n",
    "_Requires eclass-public repo from https://github.com/Lewandowski-Labs-PER/eclass-public. Either download manually or git clone: https://github.com/Lewandowski-Labs-PER/eclass-public.git._"
   ]
  },
  {
   "cell_type": "markdown",
   "id": "5d46e37d",
   "metadata": {},
   "source": [
    "## Importing modules"
   ]
  },
  {
   "cell_type": "code",
   "execution_count": 22,
   "id": "ce343062",
   "metadata": {},
   "outputs": [],
   "source": [
    "import numpy as np\n",
    "import matplotlib.pyplot as plt\n",
    "import pandas as pd\n",
    "import importlib\n",
    "# Requires data-helper file to be saved in the same location as own analysis file\n",
    "dh = importlib.import_module(\"eclass-public.DataHelper\")\n"
   ]
  },
  {
   "cell_type": "markdown",
   "id": "16b2014e",
   "metadata": {},
   "source": [
    "## Reading data"
   ]
  },
  {
   "cell_type": "code",
   "execution_count": 23,
   "id": "c046157b",
   "metadata": {},
   "outputs": [
    {
     "name": "stderr",
     "output_type": "stream",
     "text": [
      "/Users/taylo/Documents/ICL/Year 1/Projects/UROP/SEE/eclass-public/DataHelper.py:24: UserWarning: Parsing dates in %d/%m/%Y %H:%M format when dayfirst=False (the default) was specified. Pass `dayfirst=True` or specify a format to silence this warning.\n",
      "  self.cis['StartDate'] = pd.to_datetime(self.cis['StartDate'])\n"
     ]
    }
   ],
   "source": [
    "data = dh.eclass_data(route='eclass-public/')\n",
    "\n",
    "# We are only interested in matched data\n",
    "\n",
    "df = data.get_matched(unique_students=True).reset_index(\n",
    "    drop=True)  # Matched responses of all students\n",
    "# Matched responses of students in their first year/introductory courses\n",
    "df_intro = data.get_intro_matched(unique_students=True).reset_index(drop=True)\n",
    "df_buffy = data.get_buffy_matched(unique_students=True).reset_index(\n",
    "    drop=True)  # Matched responses of students in beyond first year courses\n"
   ]
  },
  {
   "cell_type": "markdown",
   "id": "2eb7640d",
   "metadata": {},
   "source": [
    "## Grouping by student"
   ]
  },
  {
   "cell_type": "code",
   "execution_count": 24,
   "id": "fea16ba5",
   "metadata": {},
   "outputs": [
    {
     "name": "stdout",
     "output_type": "stream",
     "text": [
      "CourseType\n",
      "1.0    17749\n",
      "2.0     2868\n",
      "Name: anon_student_id, dtype: int64\n"
     ]
    }
   ],
   "source": [
    "# %%Creating a column that identifies whether a student was in an Intro (1) or BUFFY (2) course\n",
    "\n",
    "ids = np.array(df['anon_student_id'])  # ids for all students\n",
    "intro_ids = np.array(df_intro['anon_student_id'])\n",
    "buffy_ids = np.array(df_buffy['anon_student_id'])\n",
    "course_ids = np.array(df['survey_id_pre'])\n",
    "buffy_course_ids = np.array(df_buffy['survey_id_pre'])\n",
    "intro_course_ids = np.array(df_intro['survey_id_pre'])\n",
    "\n",
    "\n",
    "for i in range(0, len(ids)):\n",
    "    if (df.anon_student_id[i] in intro_ids) and (df.survey_id_pre[i] in intro_course_ids) == True:\n",
    "        df.loc[df.index[i], 'CourseType'] = 1\n",
    "    elif (df.anon_student_id[i] in buffy_ids) == True:\n",
    "        df.loc[df.index[i], 'CourseType'] = 2\n",
    "\n",
    "print(df.groupby('CourseType').anon_student_id.count())"
   ]
  },
  {
   "cell_type": "markdown",
   "id": "ac0f2b1d",
   "metadata": {},
   "source": [
    "## Obtaining IDs, calculating delta, shifting likert points scale"
   ]
  },
  {
   "cell_type": "code",
   "execution_count": 25,
   "id": "af6fd783",
   "metadata": {},
   "outputs": [
    {
     "name": "stderr",
     "output_type": "stream",
     "text": [
      "/var/folders/34/pdmn0l9x56s360wd6f570p5w0000gn/T/ipykernel_67448/1525517177.py:31: PerformanceWarning: DataFrame is highly fragmented.  This is usually the result of calling `frame.insert` many times, which has poor performance.  Consider joining all columns at once using pd.concat(axis=1) instead. To get a de-fragmented frame, use `newframe = frame.copy()`\n",
      "  df[\"a_diff\"+id] = (-df[id+\"a_pre\"] + df[id+\"a_post\"])\n",
      "/var/folders/34/pdmn0l9x56s360wd6f570p5w0000gn/T/ipykernel_67448/1525517177.py:33: PerformanceWarning: DataFrame is highly fragmented.  This is usually the result of calling `frame.insert` many times, which has poor performance.  Consider joining all columns at once using pd.concat(axis=1) instead. To get a de-fragmented frame, use `newframe = frame.copy()`\n",
      "  df[\"b_diff\"+id] = (-df[id+\"b_pre\"] + df[id+\"b_post\"])\n",
      "/var/folders/34/pdmn0l9x56s360wd6f570p5w0000gn/T/ipykernel_67448/1525517177.py:31: PerformanceWarning: DataFrame is highly fragmented.  This is usually the result of calling `frame.insert` many times, which has poor performance.  Consider joining all columns at once using pd.concat(axis=1) instead. To get a de-fragmented frame, use `newframe = frame.copy()`\n",
      "  df[\"a_diff\"+id] = (-df[id+\"a_pre\"] + df[id+\"a_post\"])\n",
      "/var/folders/34/pdmn0l9x56s360wd6f570p5w0000gn/T/ipykernel_67448/1525517177.py:33: PerformanceWarning: DataFrame is highly fragmented.  This is usually the result of calling `frame.insert` many times, which has poor performance.  Consider joining all columns at once using pd.concat(axis=1) instead. To get a de-fragmented frame, use `newframe = frame.copy()`\n",
      "  df[\"b_diff\"+id] = (-df[id+\"b_pre\"] + df[id+\"b_post\"])\n",
      "/var/folders/34/pdmn0l9x56s360wd6f570p5w0000gn/T/ipykernel_67448/1525517177.py:31: PerformanceWarning: DataFrame is highly fragmented.  This is usually the result of calling `frame.insert` many times, which has poor performance.  Consider joining all columns at once using pd.concat(axis=1) instead. To get a de-fragmented frame, use `newframe = frame.copy()`\n",
      "  df[\"a_diff\"+id] = (-df[id+\"a_pre\"] + df[id+\"a_post\"])\n",
      "/var/folders/34/pdmn0l9x56s360wd6f570p5w0000gn/T/ipykernel_67448/1525517177.py:33: PerformanceWarning: DataFrame is highly fragmented.  This is usually the result of calling `frame.insert` many times, which has poor performance.  Consider joining all columns at once using pd.concat(axis=1) instead. To get a de-fragmented frame, use `newframe = frame.copy()`\n",
      "  df[\"b_diff\"+id] = (-df[id+\"b_pre\"] + df[id+\"b_post\"])\n",
      "/var/folders/34/pdmn0l9x56s360wd6f570p5w0000gn/T/ipykernel_67448/1525517177.py:31: PerformanceWarning: DataFrame is highly fragmented.  This is usually the result of calling `frame.insert` many times, which has poor performance.  Consider joining all columns at once using pd.concat(axis=1) instead. To get a de-fragmented frame, use `newframe = frame.copy()`\n",
      "  df[\"a_diff\"+id] = (-df[id+\"a_pre\"] + df[id+\"a_post\"])\n",
      "/var/folders/34/pdmn0l9x56s360wd6f570p5w0000gn/T/ipykernel_67448/1525517177.py:33: PerformanceWarning: DataFrame is highly fragmented.  This is usually the result of calling `frame.insert` many times, which has poor performance.  Consider joining all columns at once using pd.concat(axis=1) instead. To get a de-fragmented frame, use `newframe = frame.copy()`\n",
      "  df[\"b_diff\"+id] = (-df[id+\"b_pre\"] + df[id+\"b_post\"])\n",
      "/var/folders/34/pdmn0l9x56s360wd6f570p5w0000gn/T/ipykernel_67448/1525517177.py:31: PerformanceWarning: DataFrame is highly fragmented.  This is usually the result of calling `frame.insert` many times, which has poor performance.  Consider joining all columns at once using pd.concat(axis=1) instead. To get a de-fragmented frame, use `newframe = frame.copy()`\n",
      "  df[\"a_diff\"+id] = (-df[id+\"a_pre\"] + df[id+\"a_post\"])\n",
      "/var/folders/34/pdmn0l9x56s360wd6f570p5w0000gn/T/ipykernel_67448/1525517177.py:33: PerformanceWarning: DataFrame is highly fragmented.  This is usually the result of calling `frame.insert` many times, which has poor performance.  Consider joining all columns at once using pd.concat(axis=1) instead. To get a de-fragmented frame, use `newframe = frame.copy()`\n",
      "  df[\"b_diff\"+id] = (-df[id+\"b_pre\"] + df[id+\"b_post\"])\n",
      "/var/folders/34/pdmn0l9x56s360wd6f570p5w0000gn/T/ipykernel_67448/1525517177.py:31: PerformanceWarning: DataFrame is highly fragmented.  This is usually the result of calling `frame.insert` many times, which has poor performance.  Consider joining all columns at once using pd.concat(axis=1) instead. To get a de-fragmented frame, use `newframe = frame.copy()`\n",
      "  df[\"a_diff\"+id] = (-df[id+\"a_pre\"] + df[id+\"a_post\"])\n",
      "/var/folders/34/pdmn0l9x56s360wd6f570p5w0000gn/T/ipykernel_67448/1525517177.py:33: PerformanceWarning: DataFrame is highly fragmented.  This is usually the result of calling `frame.insert` many times, which has poor performance.  Consider joining all columns at once using pd.concat(axis=1) instead. To get a de-fragmented frame, use `newframe = frame.copy()`\n",
      "  df[\"b_diff\"+id] = (-df[id+\"b_pre\"] + df[id+\"b_post\"])\n",
      "/var/folders/34/pdmn0l9x56s360wd6f570p5w0000gn/T/ipykernel_67448/1525517177.py:31: PerformanceWarning: DataFrame is highly fragmented.  This is usually the result of calling `frame.insert` many times, which has poor performance.  Consider joining all columns at once using pd.concat(axis=1) instead. To get a de-fragmented frame, use `newframe = frame.copy()`\n",
      "  df[\"a_diff\"+id] = (-df[id+\"a_pre\"] + df[id+\"a_post\"])\n",
      "/var/folders/34/pdmn0l9x56s360wd6f570p5w0000gn/T/ipykernel_67448/1525517177.py:33: PerformanceWarning: DataFrame is highly fragmented.  This is usually the result of calling `frame.insert` many times, which has poor performance.  Consider joining all columns at once using pd.concat(axis=1) instead. To get a de-fragmented frame, use `newframe = frame.copy()`\n",
      "  df[\"b_diff\"+id] = (-df[id+\"b_pre\"] + df[id+\"b_post\"])\n",
      "/var/folders/34/pdmn0l9x56s360wd6f570p5w0000gn/T/ipykernel_67448/1525517177.py:31: PerformanceWarning: DataFrame is highly fragmented.  This is usually the result of calling `frame.insert` many times, which has poor performance.  Consider joining all columns at once using pd.concat(axis=1) instead. To get a de-fragmented frame, use `newframe = frame.copy()`\n",
      "  df[\"a_diff\"+id] = (-df[id+\"a_pre\"] + df[id+\"a_post\"])\n",
      "/var/folders/34/pdmn0l9x56s360wd6f570p5w0000gn/T/ipykernel_67448/1525517177.py:33: PerformanceWarning: DataFrame is highly fragmented.  This is usually the result of calling `frame.insert` many times, which has poor performance.  Consider joining all columns at once using pd.concat(axis=1) instead. To get a de-fragmented frame, use `newframe = frame.copy()`\n",
      "  df[\"b_diff\"+id] = (-df[id+\"b_pre\"] + df[id+\"b_post\"])\n",
      "/var/folders/34/pdmn0l9x56s360wd6f570p5w0000gn/T/ipykernel_67448/1525517177.py:31: PerformanceWarning: DataFrame is highly fragmented.  This is usually the result of calling `frame.insert` many times, which has poor performance.  Consider joining all columns at once using pd.concat(axis=1) instead. To get a de-fragmented frame, use `newframe = frame.copy()`\n",
      "  df[\"a_diff\"+id] = (-df[id+\"a_pre\"] + df[id+\"a_post\"])\n",
      "/var/folders/34/pdmn0l9x56s360wd6f570p5w0000gn/T/ipykernel_67448/1525517177.py:33: PerformanceWarning: DataFrame is highly fragmented.  This is usually the result of calling `frame.insert` many times, which has poor performance.  Consider joining all columns at once using pd.concat(axis=1) instead. To get a de-fragmented frame, use `newframe = frame.copy()`\n",
      "  df[\"b_diff\"+id] = (-df[id+\"b_pre\"] + df[id+\"b_post\"])\n",
      "/var/folders/34/pdmn0l9x56s360wd6f570p5w0000gn/T/ipykernel_67448/1525517177.py:31: PerformanceWarning: DataFrame is highly fragmented.  This is usually the result of calling `frame.insert` many times, which has poor performance.  Consider joining all columns at once using pd.concat(axis=1) instead. To get a de-fragmented frame, use `newframe = frame.copy()`\n",
      "  df[\"a_diff\"+id] = (-df[id+\"a_pre\"] + df[id+\"a_post\"])\n",
      "/var/folders/34/pdmn0l9x56s360wd6f570p5w0000gn/T/ipykernel_67448/1525517177.py:33: PerformanceWarning: DataFrame is highly fragmented.  This is usually the result of calling `frame.insert` many times, which has poor performance.  Consider joining all columns at once using pd.concat(axis=1) instead. To get a de-fragmented frame, use `newframe = frame.copy()`\n",
      "  df[\"b_diff\"+id] = (-df[id+\"b_pre\"] + df[id+\"b_post\"])\n",
      "/var/folders/34/pdmn0l9x56s360wd6f570p5w0000gn/T/ipykernel_67448/1525517177.py:31: PerformanceWarning: DataFrame is highly fragmented.  This is usually the result of calling `frame.insert` many times, which has poor performance.  Consider joining all columns at once using pd.concat(axis=1) instead. To get a de-fragmented frame, use `newframe = frame.copy()`\n",
      "  df[\"a_diff\"+id] = (-df[id+\"a_pre\"] + df[id+\"a_post\"])\n",
      "/var/folders/34/pdmn0l9x56s360wd6f570p5w0000gn/T/ipykernel_67448/1525517177.py:33: PerformanceWarning: DataFrame is highly fragmented.  This is usually the result of calling `frame.insert` many times, which has poor performance.  Consider joining all columns at once using pd.concat(axis=1) instead. To get a de-fragmented frame, use `newframe = frame.copy()`\n",
      "  df[\"b_diff\"+id] = (-df[id+\"b_pre\"] + df[id+\"b_post\"])\n",
      "/var/folders/34/pdmn0l9x56s360wd6f570p5w0000gn/T/ipykernel_67448/1525517177.py:31: PerformanceWarning: DataFrame is highly fragmented.  This is usually the result of calling `frame.insert` many times, which has poor performance.  Consider joining all columns at once using pd.concat(axis=1) instead. To get a de-fragmented frame, use `newframe = frame.copy()`\n",
      "  df[\"a_diff\"+id] = (-df[id+\"a_pre\"] + df[id+\"a_post\"])\n",
      "/var/folders/34/pdmn0l9x56s360wd6f570p5w0000gn/T/ipykernel_67448/1525517177.py:33: PerformanceWarning: DataFrame is highly fragmented.  This is usually the result of calling `frame.insert` many times, which has poor performance.  Consider joining all columns at once using pd.concat(axis=1) instead. To get a de-fragmented frame, use `newframe = frame.copy()`\n",
      "  df[\"b_diff\"+id] = (-df[id+\"b_pre\"] + df[id+\"b_post\"])\n",
      "/var/folders/34/pdmn0l9x56s360wd6f570p5w0000gn/T/ipykernel_67448/1525517177.py:31: PerformanceWarning: DataFrame is highly fragmented.  This is usually the result of calling `frame.insert` many times, which has poor performance.  Consider joining all columns at once using pd.concat(axis=1) instead. To get a de-fragmented frame, use `newframe = frame.copy()`\n",
      "  df[\"a_diff\"+id] = (-df[id+\"a_pre\"] + df[id+\"a_post\"])\n",
      "/var/folders/34/pdmn0l9x56s360wd6f570p5w0000gn/T/ipykernel_67448/1525517177.py:33: PerformanceWarning: DataFrame is highly fragmented.  This is usually the result of calling `frame.insert` many times, which has poor performance.  Consider joining all columns at once using pd.concat(axis=1) instead. To get a de-fragmented frame, use `newframe = frame.copy()`\n",
      "  df[\"b_diff\"+id] = (-df[id+\"b_pre\"] + df[id+\"b_post\"])\n",
      "/var/folders/34/pdmn0l9x56s360wd6f570p5w0000gn/T/ipykernel_67448/1525517177.py:31: PerformanceWarning: DataFrame is highly fragmented.  This is usually the result of calling `frame.insert` many times, which has poor performance.  Consider joining all columns at once using pd.concat(axis=1) instead. To get a de-fragmented frame, use `newframe = frame.copy()`\n",
      "  df[\"a_diff\"+id] = (-df[id+\"a_pre\"] + df[id+\"a_post\"])\n",
      "/var/folders/34/pdmn0l9x56s360wd6f570p5w0000gn/T/ipykernel_67448/1525517177.py:33: PerformanceWarning: DataFrame is highly fragmented.  This is usually the result of calling `frame.insert` many times, which has poor performance.  Consider joining all columns at once using pd.concat(axis=1) instead. To get a de-fragmented frame, use `newframe = frame.copy()`\n",
      "  df[\"b_diff\"+id] = (-df[id+\"b_pre\"] + df[id+\"b_post\"])\n",
      "/var/folders/34/pdmn0l9x56s360wd6f570p5w0000gn/T/ipykernel_67448/1525517177.py:31: PerformanceWarning: DataFrame is highly fragmented.  This is usually the result of calling `frame.insert` many times, which has poor performance.  Consider joining all columns at once using pd.concat(axis=1) instead. To get a de-fragmented frame, use `newframe = frame.copy()`\n",
      "  df[\"a_diff\"+id] = (-df[id+\"a_pre\"] + df[id+\"a_post\"])\n",
      "/var/folders/34/pdmn0l9x56s360wd6f570p5w0000gn/T/ipykernel_67448/1525517177.py:33: PerformanceWarning: DataFrame is highly fragmented.  This is usually the result of calling `frame.insert` many times, which has poor performance.  Consider joining all columns at once using pd.concat(axis=1) instead. To get a de-fragmented frame, use `newframe = frame.copy()`\n",
      "  df[\"b_diff\"+id] = (-df[id+\"b_pre\"] + df[id+\"b_post\"])\n",
      "/var/folders/34/pdmn0l9x56s360wd6f570p5w0000gn/T/ipykernel_67448/1525517177.py:31: PerformanceWarning: DataFrame is highly fragmented.  This is usually the result of calling `frame.insert` many times, which has poor performance.  Consider joining all columns at once using pd.concat(axis=1) instead. To get a de-fragmented frame, use `newframe = frame.copy()`\n",
      "  df[\"a_diff\"+id] = (-df[id+\"a_pre\"] + df[id+\"a_post\"])\n",
      "/var/folders/34/pdmn0l9x56s360wd6f570p5w0000gn/T/ipykernel_67448/1525517177.py:33: PerformanceWarning: DataFrame is highly fragmented.  This is usually the result of calling `frame.insert` many times, which has poor performance.  Consider joining all columns at once using pd.concat(axis=1) instead. To get a de-fragmented frame, use `newframe = frame.copy()`\n",
      "  df[\"b_diff\"+id] = (-df[id+\"b_pre\"] + df[id+\"b_post\"])\n",
      "/var/folders/34/pdmn0l9x56s360wd6f570p5w0000gn/T/ipykernel_67448/1525517177.py:31: PerformanceWarning: DataFrame is highly fragmented.  This is usually the result of calling `frame.insert` many times, which has poor performance.  Consider joining all columns at once using pd.concat(axis=1) instead. To get a de-fragmented frame, use `newframe = frame.copy()`\n",
      "  df[\"a_diff\"+id] = (-df[id+\"a_pre\"] + df[id+\"a_post\"])\n",
      "/var/folders/34/pdmn0l9x56s360wd6f570p5w0000gn/T/ipykernel_67448/1525517177.py:33: PerformanceWarning: DataFrame is highly fragmented.  This is usually the result of calling `frame.insert` many times, which has poor performance.  Consider joining all columns at once using pd.concat(axis=1) instead. To get a de-fragmented frame, use `newframe = frame.copy()`\n",
      "  df[\"b_diff\"+id] = (-df[id+\"b_pre\"] + df[id+\"b_post\"])\n",
      "/var/folders/34/pdmn0l9x56s360wd6f570p5w0000gn/T/ipykernel_67448/1525517177.py:31: PerformanceWarning: DataFrame is highly fragmented.  This is usually the result of calling `frame.insert` many times, which has poor performance.  Consider joining all columns at once using pd.concat(axis=1) instead. To get a de-fragmented frame, use `newframe = frame.copy()`\n",
      "  df[\"a_diff\"+id] = (-df[id+\"a_pre\"] + df[id+\"a_post\"])\n",
      "/var/folders/34/pdmn0l9x56s360wd6f570p5w0000gn/T/ipykernel_67448/1525517177.py:33: PerformanceWarning: DataFrame is highly fragmented.  This is usually the result of calling `frame.insert` many times, which has poor performance.  Consider joining all columns at once using pd.concat(axis=1) instead. To get a de-fragmented frame, use `newframe = frame.copy()`\n",
      "  df[\"b_diff\"+id] = (-df[id+\"b_pre\"] + df[id+\"b_post\"])\n",
      "/var/folders/34/pdmn0l9x56s360wd6f570p5w0000gn/T/ipykernel_67448/1525517177.py:31: PerformanceWarning: DataFrame is highly fragmented.  This is usually the result of calling `frame.insert` many times, which has poor performance.  Consider joining all columns at once using pd.concat(axis=1) instead. To get a de-fragmented frame, use `newframe = frame.copy()`\n",
      "  df[\"a_diff\"+id] = (-df[id+\"a_pre\"] + df[id+\"a_post\"])\n",
      "/var/folders/34/pdmn0l9x56s360wd6f570p5w0000gn/T/ipykernel_67448/1525517177.py:33: PerformanceWarning: DataFrame is highly fragmented.  This is usually the result of calling `frame.insert` many times, which has poor performance.  Consider joining all columns at once using pd.concat(axis=1) instead. To get a de-fragmented frame, use `newframe = frame.copy()`\n",
      "  df[\"b_diff\"+id] = (-df[id+\"b_pre\"] + df[id+\"b_post\"])\n",
      "/var/folders/34/pdmn0l9x56s360wd6f570p5w0000gn/T/ipykernel_67448/1525517177.py:31: PerformanceWarning: DataFrame is highly fragmented.  This is usually the result of calling `frame.insert` many times, which has poor performance.  Consider joining all columns at once using pd.concat(axis=1) instead. To get a de-fragmented frame, use `newframe = frame.copy()`\n",
      "  df[\"a_diff\"+id] = (-df[id+\"a_pre\"] + df[id+\"a_post\"])\n",
      "/var/folders/34/pdmn0l9x56s360wd6f570p5w0000gn/T/ipykernel_67448/1525517177.py:33: PerformanceWarning: DataFrame is highly fragmented.  This is usually the result of calling `frame.insert` many times, which has poor performance.  Consider joining all columns at once using pd.concat(axis=1) instead. To get a de-fragmented frame, use `newframe = frame.copy()`\n",
      "  df[\"b_diff\"+id] = (-df[id+\"b_pre\"] + df[id+\"b_post\"])\n",
      "/var/folders/34/pdmn0l9x56s360wd6f570p5w0000gn/T/ipykernel_67448/1525517177.py:31: PerformanceWarning: DataFrame is highly fragmented.  This is usually the result of calling `frame.insert` many times, which has poor performance.  Consider joining all columns at once using pd.concat(axis=1) instead. To get a de-fragmented frame, use `newframe = frame.copy()`\n",
      "  df[\"a_diff\"+id] = (-df[id+\"a_pre\"] + df[id+\"a_post\"])\n",
      "/var/folders/34/pdmn0l9x56s360wd6f570p5w0000gn/T/ipykernel_67448/1525517177.py:33: PerformanceWarning: DataFrame is highly fragmented.  This is usually the result of calling `frame.insert` many times, which has poor performance.  Consider joining all columns at once using pd.concat(axis=1) instead. To get a de-fragmented frame, use `newframe = frame.copy()`\n",
      "  df[\"b_diff\"+id] = (-df[id+\"b_pre\"] + df[id+\"b_post\"])\n",
      "/var/folders/34/pdmn0l9x56s360wd6f570p5w0000gn/T/ipykernel_67448/1525517177.py:31: PerformanceWarning: DataFrame is highly fragmented.  This is usually the result of calling `frame.insert` many times, which has poor performance.  Consider joining all columns at once using pd.concat(axis=1) instead. To get a de-fragmented frame, use `newframe = frame.copy()`\n",
      "  df[\"a_diff\"+id] = (-df[id+\"a_pre\"] + df[id+\"a_post\"])\n",
      "/var/folders/34/pdmn0l9x56s360wd6f570p5w0000gn/T/ipykernel_67448/1525517177.py:33: PerformanceWarning: DataFrame is highly fragmented.  This is usually the result of calling `frame.insert` many times, which has poor performance.  Consider joining all columns at once using pd.concat(axis=1) instead. To get a de-fragmented frame, use `newframe = frame.copy()`\n",
      "  df[\"b_diff\"+id] = (-df[id+\"b_pre\"] + df[id+\"b_post\"])\n",
      "/var/folders/34/pdmn0l9x56s360wd6f570p5w0000gn/T/ipykernel_67448/1525517177.py:31: PerformanceWarning: DataFrame is highly fragmented.  This is usually the result of calling `frame.insert` many times, which has poor performance.  Consider joining all columns at once using pd.concat(axis=1) instead. To get a de-fragmented frame, use `newframe = frame.copy()`\n",
      "  df[\"a_diff\"+id] = (-df[id+\"a_pre\"] + df[id+\"a_post\"])\n",
      "/var/folders/34/pdmn0l9x56s360wd6f570p5w0000gn/T/ipykernel_67448/1525517177.py:33: PerformanceWarning: DataFrame is highly fragmented.  This is usually the result of calling `frame.insert` many times, which has poor performance.  Consider joining all columns at once using pd.concat(axis=1) instead. To get a de-fragmented frame, use `newframe = frame.copy()`\n",
      "  df[\"b_diff\"+id] = (-df[id+\"b_pre\"] + df[id+\"b_post\"])\n",
      "/var/folders/34/pdmn0l9x56s360wd6f570p5w0000gn/T/ipykernel_67448/1525517177.py:31: PerformanceWarning: DataFrame is highly fragmented.  This is usually the result of calling `frame.insert` many times, which has poor performance.  Consider joining all columns at once using pd.concat(axis=1) instead. To get a de-fragmented frame, use `newframe = frame.copy()`\n",
      "  df[\"a_diff\"+id] = (-df[id+\"a_pre\"] + df[id+\"a_post\"])\n",
      "/var/folders/34/pdmn0l9x56s360wd6f570p5w0000gn/T/ipykernel_67448/1525517177.py:33: PerformanceWarning: DataFrame is highly fragmented.  This is usually the result of calling `frame.insert` many times, which has poor performance.  Consider joining all columns at once using pd.concat(axis=1) instead. To get a de-fragmented frame, use `newframe = frame.copy()`\n",
      "  df[\"b_diff\"+id] = (-df[id+\"b_pre\"] + df[id+\"b_post\"])\n",
      "/var/folders/34/pdmn0l9x56s360wd6f570p5w0000gn/T/ipykernel_67448/1525517177.py:31: PerformanceWarning: DataFrame is highly fragmented.  This is usually the result of calling `frame.insert` many times, which has poor performance.  Consider joining all columns at once using pd.concat(axis=1) instead. To get a de-fragmented frame, use `newframe = frame.copy()`\n",
      "  df[\"a_diff\"+id] = (-df[id+\"a_pre\"] + df[id+\"a_post\"])\n",
      "/var/folders/34/pdmn0l9x56s360wd6f570p5w0000gn/T/ipykernel_67448/1525517177.py:33: PerformanceWarning: DataFrame is highly fragmented.  This is usually the result of calling `frame.insert` many times, which has poor performance.  Consider joining all columns at once using pd.concat(axis=1) instead. To get a de-fragmented frame, use `newframe = frame.copy()`\n",
      "  df[\"b_diff\"+id] = (-df[id+\"b_pre\"] + df[id+\"b_post\"])\n",
      "/var/folders/34/pdmn0l9x56s360wd6f570p5w0000gn/T/ipykernel_67448/1525517177.py:31: PerformanceWarning: DataFrame is highly fragmented.  This is usually the result of calling `frame.insert` many times, which has poor performance.  Consider joining all columns at once using pd.concat(axis=1) instead. To get a de-fragmented frame, use `newframe = frame.copy()`\n",
      "  df[\"a_diff\"+id] = (-df[id+\"a_pre\"] + df[id+\"a_post\"])\n",
      "/var/folders/34/pdmn0l9x56s360wd6f570p5w0000gn/T/ipykernel_67448/1525517177.py:33: PerformanceWarning: DataFrame is highly fragmented.  This is usually the result of calling `frame.insert` many times, which has poor performance.  Consider joining all columns at once using pd.concat(axis=1) instead. To get a de-fragmented frame, use `newframe = frame.copy()`\n",
      "  df[\"b_diff\"+id] = (-df[id+\"b_pre\"] + df[id+\"b_post\"])\n",
      "/var/folders/34/pdmn0l9x56s360wd6f570p5w0000gn/T/ipykernel_67448/1525517177.py:31: PerformanceWarning: DataFrame is highly fragmented.  This is usually the result of calling `frame.insert` many times, which has poor performance.  Consider joining all columns at once using pd.concat(axis=1) instead. To get a de-fragmented frame, use `newframe = frame.copy()`\n",
      "  df[\"a_diff\"+id] = (-df[id+\"a_pre\"] + df[id+\"a_post\"])\n",
      "/var/folders/34/pdmn0l9x56s360wd6f570p5w0000gn/T/ipykernel_67448/1525517177.py:33: PerformanceWarning: DataFrame is highly fragmented.  This is usually the result of calling `frame.insert` many times, which has poor performance.  Consider joining all columns at once using pd.concat(axis=1) instead. To get a de-fragmented frame, use `newframe = frame.copy()`\n",
      "  df[\"b_diff\"+id] = (-df[id+\"b_pre\"] + df[id+\"b_post\"])\n",
      "/var/folders/34/pdmn0l9x56s360wd6f570p5w0000gn/T/ipykernel_67448/1525517177.py:31: PerformanceWarning: DataFrame is highly fragmented.  This is usually the result of calling `frame.insert` many times, which has poor performance.  Consider joining all columns at once using pd.concat(axis=1) instead. To get a de-fragmented frame, use `newframe = frame.copy()`\n",
      "  df[\"a_diff\"+id] = (-df[id+\"a_pre\"] + df[id+\"a_post\"])\n",
      "/var/folders/34/pdmn0l9x56s360wd6f570p5w0000gn/T/ipykernel_67448/1525517177.py:33: PerformanceWarning: DataFrame is highly fragmented.  This is usually the result of calling `frame.insert` many times, which has poor performance.  Consider joining all columns at once using pd.concat(axis=1) instead. To get a de-fragmented frame, use `newframe = frame.copy()`\n",
      "  df[\"b_diff\"+id] = (-df[id+\"b_pre\"] + df[id+\"b_post\"])\n",
      "/var/folders/34/pdmn0l9x56s360wd6f570p5w0000gn/T/ipykernel_67448/1525517177.py:31: PerformanceWarning: DataFrame is highly fragmented.  This is usually the result of calling `frame.insert` many times, which has poor performance.  Consider joining all columns at once using pd.concat(axis=1) instead. To get a de-fragmented frame, use `newframe = frame.copy()`\n",
      "  df[\"a_diff\"+id] = (-df[id+\"a_pre\"] + df[id+\"a_post\"])\n",
      "/var/folders/34/pdmn0l9x56s360wd6f570p5w0000gn/T/ipykernel_67448/1525517177.py:33: PerformanceWarning: DataFrame is highly fragmented.  This is usually the result of calling `frame.insert` many times, which has poor performance.  Consider joining all columns at once using pd.concat(axis=1) instead. To get a de-fragmented frame, use `newframe = frame.copy()`\n",
      "  df[\"b_diff\"+id] = (-df[id+\"b_pre\"] + df[id+\"b_post\"])\n",
      "/var/folders/34/pdmn0l9x56s360wd6f570p5w0000gn/T/ipykernel_67448/1525517177.py:31: PerformanceWarning: DataFrame is highly fragmented.  This is usually the result of calling `frame.insert` many times, which has poor performance.  Consider joining all columns at once using pd.concat(axis=1) instead. To get a de-fragmented frame, use `newframe = frame.copy()`\n",
      "  df[\"a_diff\"+id] = (-df[id+\"a_pre\"] + df[id+\"a_post\"])\n",
      "/var/folders/34/pdmn0l9x56s360wd6f570p5w0000gn/T/ipykernel_67448/1525517177.py:33: PerformanceWarning: DataFrame is highly fragmented.  This is usually the result of calling `frame.insert` many times, which has poor performance.  Consider joining all columns at once using pd.concat(axis=1) instead. To get a de-fragmented frame, use `newframe = frame.copy()`\n",
      "  df[\"b_diff\"+id] = (-df[id+\"b_pre\"] + df[id+\"b_post\"])\n",
      "/var/folders/34/pdmn0l9x56s360wd6f570p5w0000gn/T/ipykernel_67448/1525517177.py:41: PerformanceWarning: DataFrame is highly fragmented.  This is usually the result of calling `frame.insert` many times, which has poor performance.  Consider joining all columns at once using pd.concat(axis=1) instead. To get a de-fragmented frame, use `newframe = frame.copy()`\n",
      "  df['pre_delta_sum'] = df[delta_ids].apply(\n",
      "/var/folders/34/pdmn0l9x56s360wd6f570p5w0000gn/T/ipykernel_67448/1525517177.py:43: PerformanceWarning: DataFrame is highly fragmented.  This is usually the result of calling `frame.insert` many times, which has poor performance.  Consider joining all columns at once using pd.concat(axis=1) instead. To get a de-fragmented frame, use `newframe = frame.copy()`\n",
      "  df['post_delta_sum'] = df[delta_ids_post].apply(lambda x: x).sum(axis=1)\n"
     ]
    }
   ],
   "source": [
    "\n",
    "# First we obtain the question ids for each item, we'll use these to calculate each students E-CLASS & Delta score\n",
    "preids = [x[:-1]\n",
    "          for i, x in enumerate(data.pre_survey_question_ids) if i % 2 < 1]\n",
    "a_pre = []\n",
    "b_pre = []\n",
    "a_post = []\n",
    "b_post = []\n",
    "for id in preids:\n",
    "    a_pre.append(id + \"a_pre\")\n",
    "    b_pre.append(id + \"b_pre\")\n",
    "    a_post.append(id + \"a_post\")\n",
    "    b_post.append(id + \"b_post\")\n",
    "columns = a_pre+b_pre+a_post+b_post\n",
    "columns.sort()\n",
    "\n",
    "# Calculate delta scores using original 5-pt score\n",
    "delta_ids = []\n",
    "delta_ids_post = []\n",
    "for id in preids:\n",
    "    df[\"delta_pre\"+id] = (df[id+\"a_pre\"] - df[id+\"b_pre\"])\n",
    "    df[\"delta_post\"+id] = (df[id+\"a_post\"] - df[id+\"b_post\"])\n",
    "    delta_ids.append(\"delta_pre\"+id)\n",
    "    delta_ids_post.append(\"delta_post\"+id)\n",
    "\n",
    "# Converting data from 5-pt scale to 3-pt scale\n",
    "df[columns] = df[columns].replace({5: 2, 4: 1, 3: 0, 2: -1, 1: -2})\n",
    "df[columns] = df[columns].replace({2: 1, -2: -1})\n",
    "\n",
    "for id in preids:\n",
    "    # Calculates YOU item difference between pre and post score\n",
    "    df[\"a_diff\"+id] = (-df[id+\"a_pre\"] + df[id+\"a_post\"])\n",
    "    # Calculates pre item difference between pre and post score\n",
    "    df[\"b_diff\"+id] = (-df[id+\"b_pre\"] + df[id+\"b_post\"])\n",
    "\n",
    "delta_columns = delta_ids+delta_ids_post\n",
    "df[delta_columns] = df[delta_columns]\n",
    "\n",
    "delta_columns = delta_columns+[\"Q54\"]\n",
    "delta_columns = delta_columns[:-1]\n",
    "\n",
    "df['pre_delta_sum'] = df[delta_ids].apply(\n",
    "    lambda x: x).sum(axis=1)  # Summing delta scores\n",
    "df['post_delta_sum'] = df[delta_ids_post].apply(lambda x: x).sum(axis=1)"
   ]
  },
  {
   "cell_type": "code",
   "execution_count": 26,
   "id": "a4a3c526",
   "metadata": {},
   "outputs": [],
   "source": [
    "df_processed=df.copy()\n",
    "df_processed[delta_ids] = df[delta_ids]\n",
    "df_processed[delta_ids_post] = df[delta_ids_post]\n",
    "df_processed[columns] = df[columns]\n",
    "\n",
    "df_processed = df_processed.fillna(0) #Entries with \"NA\" replaced with 0"
   ]
  },
  {
   "cell_type": "code",
   "execution_count": 27,
   "id": "9a24e68b",
   "metadata": {},
   "outputs": [
    {
     "name": "stderr",
     "output_type": "stream",
     "text": [
      "/var/folders/34/pdmn0l9x56s360wd6f570p5w0000gn/T/ipykernel_67448/3695497147.py:6: PerformanceWarning: DataFrame is highly fragmented.  This is usually the result of calling `frame.insert` many times, which has poor performance.  Consider joining all columns at once using pd.concat(axis=1) instead. To get a de-fragmented frame, use `newframe = frame.copy()`\n",
      "  df_processed[\"DeltaEqualPre\"] = delta_tf_pre\n",
      "/var/folders/34/pdmn0l9x56s360wd6f570p5w0000gn/T/ipykernel_67448/3695497147.py:11: PerformanceWarning: DataFrame is highly fragmented.  This is usually the result of calling `frame.insert` many times, which has poor performance.  Consider joining all columns at once using pd.concat(axis=1) instead. To get a de-fragmented frame, use `newframe = frame.copy()`\n",
      "  df_processed[\"DeltaEqualPost\"] = delta_tf_post\n",
      "/var/folders/34/pdmn0l9x56s360wd6f570p5w0000gn/T/ipykernel_67448/3695497147.py:19: PerformanceWarning: DataFrame is highly fragmented.  This is usually the result of calling `frame.insert` many times, which has poor performance.  Consider joining all columns at once using pd.concat(axis=1) instead. To get a de-fragmented frame, use `newframe = frame.copy()`\n",
      "  df_processed.loc[df_processed.index[i], 'DeltaValidityPre'] = 0\n",
      "/var/folders/34/pdmn0l9x56s360wd6f570p5w0000gn/T/ipykernel_67448/3695497147.py:25: PerformanceWarning: DataFrame is highly fragmented.  This is usually the result of calling `frame.insert` many times, which has poor performance.  Consider joining all columns at once using pd.concat(axis=1) instead. To get a de-fragmented frame, use `newframe = frame.copy()`\n",
      "  df_processed.loc[df_processed.index[i], 'DeltaValidityPost'] = 0\n",
      "/var/folders/34/pdmn0l9x56s360wd6f570p5w0000gn/T/ipykernel_67448/3695497147.py:31: PerformanceWarning: DataFrame is highly fragmented.  This is usually the result of calling `frame.insert` many times, which has poor performance.  Consider joining all columns at once using pd.concat(axis=1) instead. To get a de-fragmented frame, use `newframe = frame.copy()`\n",
      "  df_processed.loc[df_processed.index[i], 'DeltaValidity'] = 0\n"
     ]
    }
   ],
   "source": [
    "#%%\n",
    "df_delta_pre = df_processed[delta_ids]\n",
    "df_delta_post = df_processed[delta_ids_post]\n",
    "\n",
    "delta_tf_pre = df_delta_pre.eq(df_delta_pre.iloc[:, 0], axis=0).all(axis=1)\n",
    "df_processed[\"DeltaEqualPre\"] = delta_tf_pre\n",
    "df_processed[\"DeltaEqualPre\"] = df_processed[\"DeltaEqualPre\"].replace(\n",
    "    {False: 0, True: 1})  # 1 is Valid, 0 is Invalid\n",
    "\n",
    "delta_tf_post = df_delta_post.eq(df_delta_post.iloc[:, 0], axis=0).all(axis=1)\n",
    "df_processed[\"DeltaEqualPost\"] = delta_tf_post\n",
    "df_processed[\"DeltaEqualPost\"] = df_processed[\"DeltaEqualPost\"].replace({\n",
    "                                                                        False: 0, True: 1})\n",
    "\n",
    "for i in range(0, len(df_processed)):\n",
    "    if (df_processed.DeltaEqualPre[i] == 1) and (df_processed.pre_delta_sum[i] == 0):\n",
    "        df_processed.loc[df_processed.index[i], 'DeltaValidityPre'] = 1\n",
    "    else:\n",
    "        df_processed.loc[df_processed.index[i], 'DeltaValidityPre'] = 0\n",
    "\n",
    "for i in range(0, len(df_processed)):\n",
    "    if (df_processed.DeltaEqualPost[i] == 1) and (df_processed.post_delta_sum[i] == 0):\n",
    "        df_processed.loc[df_processed.index[i], 'DeltaValidityPost'] = 1\n",
    "    else:\n",
    "        df_processed.loc[df_processed.index[i], 'DeltaValidityPost'] = 0\n",
    "\n",
    "for i in range(0, len(ids)):  # filters through union of invalid students\n",
    "    if (df_processed.DeltaValidityPre[i] == 1) or (df_processed.DeltaValidityPost[i] == 1):\n",
    "        df_processed.loc[df_processed.index[i], 'DeltaValidity'] = 1\n",
    "    else:\n",
    "        df_processed.loc[df_processed.index[i], 'DeltaValidity'] = 0\n",
    "# Selects just valid students\n",
    "df_processed = df_processed[df_processed[\"DeltaValidity\"] == 0]\n"
   ]
  },
  {
   "cell_type": "markdown",
   "id": "72627b72",
   "metadata": {},
   "source": [
    "## Plotting Pre-Post filtered SEE score"
   ]
  },
  {
   "cell_type": "code",
   "execution_count": 28,
   "id": "f554b168",
   "metadata": {},
   "outputs": [
    {
     "data": {
      "image/png": "[encoded data removed]",
      "text/plain": [
       "<Figure size 640x480 with 2 Axes>"
      ]
     },
     "metadata": {},
     "output_type": "display_data"
    }
   ],
   "source": [
    "fig, (ax1, ax2) = plt.subplots(1, 2, sharey=True)\n",
    "delta_bins = np.arange(min(df['pre_delta_sum']), max(df['pre_delta_sum']), 1)\n",
    "filter_delta_bins = np.arange(min(df_processed['pre_delta_sum']), max(df_processed['pre_delta_sum']), 1)\n",
    "ax1.hist(df['pre_delta_sum'], bins=delta_bins, color=\"#3d3df3\")\n",
    "ax2.hist(df_processed['pre_delta_sum'], bins=filter_delta_bins, color=\"#3d3df3\")\n",
    "ax1.set_xlabel(\"Pre-SEE Score Before Filtering\")\n",
    "ax2.set_xlabel(\"Pre-SEE Score After Filtering\")\n",
    "ax1.set_ylabel(\"Frequency\")\n",
    "plt.tight_layout()\n"
   ]
  },
  {
   "cell_type": "code",
   "execution_count": 29,
   "id": "426fc365",
   "metadata": {},
   "outputs": [
    {
     "data": {
      "image/png": "[encoded data removed]",
      "text/plain": [
       "<Figure size 640x480 with 2 Axes>"
      ]
     },
     "metadata": {},
     "output_type": "display_data"
    }
   ],
   "source": [
    "fig, (ax1, ax2) = plt.subplots(1, 2, sharey=True)\n",
    "delta_bins = np.arange(min(df['post_delta_sum']), max(df['post_delta_sum']), 1)\n",
    "filter_delta_bins = np.arange(min(df_processed['post_delta_sum']), max(df_processed['post_delta_sum']), 1)\n",
    "ax1.hist(df['post_delta_sum'], bins=delta_bins, color=\"red\")\n",
    "ax2.hist(df_processed['post_delta_sum'], bins=filter_delta_bins, color=\"red\")\n",
    "ax1.set_xlabel(\"Post-SEE Score Before Filtering\")\n",
    "ax2.set_xlabel(\"Post-SEE Score After Filtering\")\n",
    "ax1.set_ylabel(\"Frequency\")\n",
    "plt.tight_layout()"
   ]
  }
 ],
 "metadata": {
  "kernelspec": {
   "display_name": "Python 3 (ipykernel)",
   "language": "python",
   "name": "python3"
  },
  "language_info": {
   "codemirror_mode": {
    "name": "ipython",
    "version": 3
   },
   "file_extension": ".py",
   "mimetype": "text/x-python",
   "name": "python",
   "nbconvert_exporter": "python",
   "pygments_lexer": "ipython3",
   "version": "3.9.13"
  }
 },
 "nbformat": 4,
 "nbformat_minor": 5
}
